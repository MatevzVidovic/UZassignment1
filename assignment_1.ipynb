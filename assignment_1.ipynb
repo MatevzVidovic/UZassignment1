{
 "cells": [
  {
   "cell_type": "code",
   "execution_count": null,
   "metadata": {},
   "outputs": [],
   "source": [
    "from UZ_utils import *\n",
    "\n",
    "import numpy as np\n",
    "import cv2\n",
    "from matplotlib import pyplot as plt"
   ]
  },
  {
   "cell_type": "markdown",
   "metadata": {},
   "source": [
    "# Excercise 1"
   ]
  },
  {
   "cell_type": "markdown",
   "metadata": {},
   "source": [
    "## Excercise 1, task (a)"
   ]
  },
  {
   "cell_type": "code",
   "execution_count": null,
   "metadata": {},
   "outputs": [],
   "source": [
    "I = imread(\".\\\\images\\\\umbrellas.jpg\")\n",
    "imshow(I)\n",
    "height, width, channels = I.shape"
   ]
  },
  {
   "cell_type": "markdown",
   "metadata": {},
   "source": [
    "## Excercise 1, task (b)"
   ]
  },
  {
   "cell_type": "code",
   "execution_count": null,
   "metadata": {},
   "outputs": [],
   "source": [
    "I_gray = np.sum(I, axis=2) / 3\n",
    "plt.title(\"Excercise 1, task (b)\")\n",
    "plt.imshow(I_gray, cmap='gray')\n",
    "plt.show()"
   ]
  },
  {
   "cell_type": "markdown",
   "metadata": {},
   "source": [
    "## Excercise 1, task (c)"
   ]
  },
  {
   "cell_type": "code",
   "execution_count": null,
   "metadata": {},
   "outputs": [],
   "source": [
    "plt.clf()\n",
    "plt.subplot(2, 2, 1)\n",
    "plt.title(\"Excercise 1, task (c)\")\n",
    "I_red = cut_rectangle_monochannel(I, (130, 260), (240, 450), 0)\n",
    "plt.imshow(I_red)\n",
    "plt.subplot(2, 2, 2)\n",
    "plt.imshow(I_red, cmap='gray')\n",
    "\n",
    "I_green = cut_rectangle_monochannel(I, (130, 260), (240, 450), 1)\n",
    "I_blue = cut_rectangle_monochannel(I, (130, 260), (240, 450), 2)\n",
    "plt.subplot(2, 2, 3)\n",
    "plt.imshow(I_green)\n",
    "plt.subplot(2, 2, 4)\n",
    "plt.imshow(I_blue)\n",
    "plt.show()"
   ]
  },
  {
   "cell_type": "markdown",
   "metadata": {},
   "source": [
    "## Excercise 1, task (d)"
   ]
  },
  {
   "cell_type": "code",
   "execution_count": null,
   "metadata": {},
   "outputs": [],
   "source": [
    "invert_subimage_float_inplace(I, (130, 260), (240, 450))\n",
    "plt.clf()\n",
    "plt.imshow(I)\n",
    "plt.title(\"Excercise 1, task (d)\")\n",
    "plt.show()"
   ]
  },
  {
   "cell_type": "markdown",
   "metadata": {},
   "source": [
    "## Excercise 1, task (e)"
   ]
  },
  {
   "cell_type": "code",
   "execution_count": null,
   "metadata": {},
   "outputs": [],
   "source": [
    "I_gray_reduced = I_gray * 0.3\n",
    "plt.clf()\n",
    "plt.subplot(2, 1, 1)\n",
    "plt.title(\"Excercise 1, task (e): failed example\")\n",
    "plt.imshow(I_gray, cmap='gray')\n",
    "plt.subplot(2, 1, 2)\n",
    "plt.imshow(I_gray_reduced, cmap='gray')\n",
    "plt.show()\n",
    "\n",
    "plt.clf()\n",
    "plt.subplot(2, 1, 1)\n",
    "plt.title(\"Excercise 1, task (e): successful example\")\n",
    "plt.imshow(I_gray, vmin=0, vmax=1, cmap='gray')\n",
    "plt.subplot(2, 1, 2)\n",
    "plt.imshow(I_gray_reduced, vmin=0, vmax=1, cmap='gray')\n",
    "plt.show()"
   ]
  },
  {
   "cell_type": "markdown",
   "metadata": {},
   "source": [
    "# Excercise 2"
   ]
  },
  {
   "cell_type": "markdown",
   "metadata": {},
   "source": [
    "## Excercise 2, task (a)"
   ]
  },
  {
   "cell_type": "code",
   "execution_count": null,
   "metadata": {},
   "outputs": [],
   "source": [
    "I_bird = imread(\".\\\\images\\\\bird.jpg\")\n",
    "I_bird_gray = np.sum(I_bird, axis=2) / 3\n",
    "treshold = 0.3\n",
    "I_bird_mask = treshold_mask(I_bird_gray, treshold)\n",
    "\n",
    "plt.clf()\n",
    "plt.subplot(2, 1, 1)\n",
    "plt.title(\"Excercise 2, task (a)\")\n",
    "plt.imshow(I_bird)\n",
    "plt.subplot(2, 1, 2)\n",
    "plt.imshow(I_bird_mask, cmap='gray')\n",
    "plt.show()"
   ]
  },
  {
   "cell_type": "markdown",
   "metadata": {},
   "source": [
    "## Excercise 2, task (b)"
   ]
  },
  {
   "cell_type": "code",
   "execution_count": null,
   "metadata": {},
   "outputs": [],
   "source": [
    "desired_num_of_bins = 150\n",
    "bird_histogram = myhist(I_bird_gray, desired_num_of_bins)\n",
    "plot_histogram(bird_histogram, \"Excercise 2, task (b)\")"
   ]
  },
  {
   "cell_type": "markdown",
   "metadata": {},
   "source": [
    "## Excercise 2, task (c)"
   ]
  },
  {
   "cell_type": "code",
   "execution_count": null,
   "metadata": {},
   "outputs": [],
   "source": [
    "plot_both_types_of_histograms(I_bird_gray, 100, \"Excercise 2, task (c): bird.jpg\")\n",
    "\n",
    "I_bird = imread(\".\\\\images\\\\bird.jpg\")\n",
    "I_bird_gray = np.sum(I_bird, axis=2) / 3\n",
    "\n",
    "I_bird_gray_demaxed = I_bird_gray[I_bird_gray < 0.3] \n",
    "plot_both_types_of_histograms(I_bird_gray_demaxed, 100, \"Excercise 2, task (c): bird.jpg, maxed at 0.3\")\n",
    "\n",
    "I_bird_gray_demaxed = I_bird_gray * 0.3\n",
    "plot_both_types_of_histograms(I_bird_gray_demaxed, 100, \"Excercise 2, task (c): bird.jpg scaled by 0.3\")\n",
    "show_difference_of_dynamic_myhist(\"Excercise 2, task (c): made up image example for myhist and myhist_dynamic\")"
   ]
  },
  {
   "cell_type": "markdown",
   "metadata": {},
   "source": [
    "# Excercise 2, task (d)"
   ]
  },
  {
   "cell_type": "code",
   "execution_count": null,
   "metadata": {},
   "outputs": [],
   "source": [
    "I1 = np.sum(imread(\".\\\\moje_slike\\\\temna.jpg\"), axis=2) / 3\n",
    "I2 = np.sum(imread(\".\\\\moje_slike\\\\srednja.jpg\"), axis=2) / 3\n",
    "I3 = np.sum(imread(\".\\\\moje_slike\\\\svetla.jpg\"), axis=2) / 3\n",
    "\n",
    "for num_of_bins in range(30, 256, 70):\n",
    "    plot_myhist_for_3_images([I1, I2, I3], num_of_bins)\n",
    "\n",
    "I1 = np.sum(imread(\".\\\\moje_slike\\\\temna_cedevita.jpg\"), axis=2) / 3\n",
    "I2 = np.sum(imread(\".\\\\moje_slike\\\\srednja_cedevita.jpg\"), axis=2) / 3\n",
    "I3 = np.sum(imread(\".\\\\moje_slike\\\\svetla_cedevita.jpg\"), axis=2) / 3\n",
    "\n",
    "for num_of_bins in range(30, 256, 70):\n",
    "    plot_myhist_for_3_images([I1, I2, I3], num_of_bins)"
   ]
  },
  {
   "cell_type": "markdown",
   "metadata": {},
   "source": [
    "# Excercise 2, task (e)"
   ]
  },
  {
   "cell_type": "code",
   "execution_count": null,
   "metadata": {},
   "outputs": [],
   "source": [
    "otsu_showcase()"
   ]
  },
  {
   "cell_type": "markdown",
   "metadata": {},
   "source": [
    "# Excercise 3"
   ]
  },
  {
   "cell_type": "markdown",
   "metadata": {},
   "source": [
    "# Excercise 3, task (a)"
   ]
  },
  {
   "cell_type": "code",
   "execution_count": null,
   "metadata": {},
   "outputs": [],
   "source": [
    "I_maskJpeg = imread(\".\\\\images\\\\mask.png\")\n",
    "plt.subplot(2,2,1)\n",
    "plt.title(\"E3, task (a). Basic image:\")\n",
    "plt.imshow(I_maskJpeg, cmap='gray')\n",
    "\n",
    "I_maskJpeg_gray = np.sum(I_maskJpeg, axis=2) / 3\n",
    "plt.subplot(2,2,2)\n",
    "plt.title(\"Gray image:\")\n",
    "plt.imshow(I_maskJpeg_gray, cmap='gray')\n",
    "\n",
    "I_maskJpeg_dilated = dilation(I_maskJpeg_gray)\n",
    "plt.subplot(2,2,3)\n",
    "plt.title(\"Dilated image:\")\n",
    "plt.imshow(I_maskJpeg_dilated, cmap='gray')\n",
    "\n",
    "I_maskJpeg_eroded = erosion(I_maskJpeg_gray)\n",
    "plt.subplot(2,2,4)\n",
    "plt.title(\"Eroded image:\")\n",
    "plt.imshow(I_maskJpeg_eroded, cmap='gray')\n",
    "plt.show()"
   ]
  },
  {
   "cell_type": "markdown",
   "metadata": {},
   "source": [
    "# Exercise 3, task (b)"
   ]
  },
  {
   "cell_type": "code",
   "execution_count": null,
   "metadata": {},
   "outputs": [],
   "source": [
    "I_bird = imread(\".\\\\images\\\\bird.jpg\")\n",
    "I_bird_gray = np.sum(I_bird, axis=2) / 3\n",
    "I_bird_mask = treshold_mask(I_bird_gray, otsu_treshold(I_bird_gray, 256))\n",
    "plt.title(\"Exercise 3, task (b): initial mask\")\n",
    "plt.imshow(I_bird_mask, cmap='gray')\n",
    "plt.show()\n",
    "\n",
    "for i in range(3):\n",
    "    I_bird_mask = closing_ellipse(I_bird_mask, 24, 24)\n",
    "    plt.title(\"Exercise 3, task (b): after \" + str(i) + \"closings ellipse (n=7)\")\n",
    "    plt.imshow(I_bird_mask, cmap='gray')\n",
    "    plt.show()"
   ]
  },
  {
   "cell_type": "markdown",
   "metadata": {},
   "source": [
    "# Excercise 3, task (c) and (d)"
   ]
  },
  {
   "cell_type": "code",
   "execution_count": null,
   "metadata": {},
   "outputs": [],
   "source": [
    "I_eagle = imread(\".\\\\images\\\\eagle.jpg\")\n",
    "I_eagle_gray = np.sum(I_eagle, axis=2) / 3\n",
    "I_eagle_mask = treshold_mask(I_eagle_gray, otsu_treshold(I_eagle_gray, 256))\n",
    "\n",
    "I_eagle_mask = invert_mask(I_eagle_mask)\n",
    "I_eagle_masked = immask(I_eagle, I_eagle_mask)\n",
    "plt.title(\"Excercise 3, task (c) and (d)\")\n",
    "plt.imshow(I_eagle_masked)\n",
    "plt.show()"
   ]
  },
  {
   "cell_type": "markdown",
   "metadata": {},
   "source": [
    "# Excercise 3, task (e)"
   ]
  },
  {
   "cell_type": "code",
   "execution_count": null,
   "metadata": {},
   "outputs": [],
   "source": [
    "I_coins = imread(\".\\\\images\\\\coins.jpg\")\n",
    "I_coins_gray = np.sum(I_coins, axis=2) / 3\n",
    "I_coins_mask = treshold_mask(I_coins_gray, otsu_treshold(I_coins_gray, 256))\n",
    "I_opened = opening(I_coins_mask, 7)\n",
    "I_opened = opening(I_opened, 9)\n",
    "\n",
    "I_opened = invert_mask(I_opened)\n",
    "\n",
    "I_opened = I_opened.astype('uint8')\n",
    "returned_data = cv2.connectedComponentsWithStats(I_opened)\n",
    "num_of_components = returned_data[0]\n",
    "labels = returned_data[1]\n",
    "stats = returned_data[2]\n",
    "centroids = returned_data[3]\n",
    "\n",
    "for i in range (1, num_of_components):\n",
    "    if(stats[(i, cv2.CC_STAT_AREA)] > 700):\n",
    "        ix_left = stats[(i, cv2.CC_STAT_LEFT)]\n",
    "        ix_right = stats[(i, cv2.CC_STAT_LEFT)] + stats[(i, cv2.CC_STAT_WIDTH)]\n",
    "        ix_top = stats[(i, cv2.CC_STAT_TOP)]\n",
    "        ix_bottom = stats[(i, cv2.CC_STAT_TOP)] + stats[(i, cv2.CC_STAT_HEIGHT)]\n",
    "        \n",
    "        # tole pa ne dela for some reason:\n",
    "        # I_opened[ix_top:ix_bottom][ix_left:ix_right] = 0\n",
    "        I_opened[ix_top:ix_bottom, ix_left:ix_right] = 0\n",
    "\n",
    "        \"\"\"\n",
    "        stats so oblike (label, COLUMN)\n",
    "        Column vrednosti so:\n",
    "        CC_STAT_LEFT Python: cv.CC_STAT_LEFT\n",
    "        The leftmost (x) coordinate which is the inclusive start of the bounding box in the horizontal direction.\n",
    "        CC_STAT_TOP Python: cv.CC_STAT_TOP\n",
    "        CC_STAT_WIDTH \n",
    "        Python: cv.CC_STAT_WIDTH\n",
    "        The horizontal size of the bounding box.\n",
    "        CC_STAT_HEIGHT \n",
    "        Python: cv.CC_STAT_HEIGHT\n",
    "        The vertical size of the bounding box.\n",
    "        CC_STAT_AREA The total area (in pixels)\n",
    "        \"\"\"\n",
    "        \n",
    "\n",
    "imshow(I_opened, \"Excercise 3, task (e): mask\")\n",
    "\n",
    "I_small_coins = immask_white_background(I_coins, I_opened)\n",
    "imshow(I_small_coins, \"Excercise 3, task (e): new image\")"
   ]
  }
 ],
 "metadata": {
  "language_info": {
   "name": "python"
  }
 },
 "nbformat": 4,
 "nbformat_minor": 2
}
